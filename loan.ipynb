{
 "cells": [
  {
   "cell_type": "markdown",
   "metadata": {},
   "source": [
    "## Importing Liberaries"
   ]
  },
  {
   "cell_type": "code",
   "execution_count": 1,
   "metadata": {},
   "outputs": [],
   "source": [
    "import pandas as pd\n",
    "import numpy as np\n",
    "import matplotlib\n",
    "matplotlib.use(\"WebAgg\")\n",
    "import matplotlib.pyplot as plt\n",
    "import seaborn as sns\n",
    "from sklearn.preprocessing import LabelEncoder, StandardScaler\n",
    "from statsmodels.stats.outliers_influence import variance_inflation_factor\n",
    "from sklearn.model_selection import train_test_split\n",
    "import sklearn.metrics as sm\n",
    "from sklearn.linear_model import LogisticRegression\n",
    "from sklearn.tree import DecisionTreeClassifier\n",
    "from sklearn.neighbors import KNeighborsClassifier\n",
    "from sklearn.ensemble import RandomForestClassifier\n",
    "import pickle"
   ]
  },
  {
   "cell_type": "markdown",
   "metadata": {},
   "source": [
    "## Reading Data"
   ]
  },
  {
   "cell_type": "code",
   "execution_count": 2,
   "metadata": {},
   "outputs": [],
   "source": [
    "df = pd.read_csv(\"loan_data.csv\")"
   ]
  },
  {
   "cell_type": "code",
   "execution_count": 3,
   "metadata": {},
   "outputs": [
    {
     "data": {
      "text/html": [
       "<div>\n",
       "<style scoped>\n",
       "    .dataframe tbody tr th:only-of-type {\n",
       "        vertical-align: middle;\n",
       "    }\n",
       "\n",
       "    .dataframe tbody tr th {\n",
       "        vertical-align: top;\n",
       "    }\n",
       "\n",
       "    .dataframe thead th {\n",
       "        text-align: right;\n",
       "    }\n",
       "</style>\n",
       "<table border=\"1\" class=\"dataframe\">\n",
       "  <thead>\n",
       "    <tr style=\"text-align: right;\">\n",
       "      <th></th>\n",
       "      <th>credit.policy</th>\n",
       "      <th>purpose</th>\n",
       "      <th>int.rate</th>\n",
       "      <th>installment</th>\n",
       "      <th>log.annual.inc</th>\n",
       "      <th>dti</th>\n",
       "      <th>fico</th>\n",
       "      <th>days.with.cr.line</th>\n",
       "      <th>revol.bal</th>\n",
       "      <th>revol.util</th>\n",
       "      <th>inq.last.6mths</th>\n",
       "      <th>delinq.2yrs</th>\n",
       "      <th>pub.rec</th>\n",
       "      <th>not.fully.paid</th>\n",
       "    </tr>\n",
       "  </thead>\n",
       "  <tbody>\n",
       "    <tr>\n",
       "      <th>0</th>\n",
       "      <td>1</td>\n",
       "      <td>debt_consolidation</td>\n",
       "      <td>0.1189</td>\n",
       "      <td>829.10</td>\n",
       "      <td>11.350407</td>\n",
       "      <td>19.48</td>\n",
       "      <td>737</td>\n",
       "      <td>5639.958333</td>\n",
       "      <td>28854</td>\n",
       "      <td>52.1</td>\n",
       "      <td>0</td>\n",
       "      <td>0</td>\n",
       "      <td>0</td>\n",
       "      <td>0</td>\n",
       "    </tr>\n",
       "    <tr>\n",
       "      <th>1</th>\n",
       "      <td>1</td>\n",
       "      <td>credit_card</td>\n",
       "      <td>0.1071</td>\n",
       "      <td>228.22</td>\n",
       "      <td>11.082143</td>\n",
       "      <td>14.29</td>\n",
       "      <td>707</td>\n",
       "      <td>2760.000000</td>\n",
       "      <td>33623</td>\n",
       "      <td>76.7</td>\n",
       "      <td>0</td>\n",
       "      <td>0</td>\n",
       "      <td>0</td>\n",
       "      <td>0</td>\n",
       "    </tr>\n",
       "    <tr>\n",
       "      <th>2</th>\n",
       "      <td>1</td>\n",
       "      <td>debt_consolidation</td>\n",
       "      <td>0.1357</td>\n",
       "      <td>366.86</td>\n",
       "      <td>10.373491</td>\n",
       "      <td>11.63</td>\n",
       "      <td>682</td>\n",
       "      <td>4710.000000</td>\n",
       "      <td>3511</td>\n",
       "      <td>25.6</td>\n",
       "      <td>1</td>\n",
       "      <td>0</td>\n",
       "      <td>0</td>\n",
       "      <td>0</td>\n",
       "    </tr>\n",
       "    <tr>\n",
       "      <th>3</th>\n",
       "      <td>1</td>\n",
       "      <td>debt_consolidation</td>\n",
       "      <td>0.1008</td>\n",
       "      <td>162.34</td>\n",
       "      <td>11.350407</td>\n",
       "      <td>8.10</td>\n",
       "      <td>712</td>\n",
       "      <td>2699.958333</td>\n",
       "      <td>33667</td>\n",
       "      <td>73.2</td>\n",
       "      <td>1</td>\n",
       "      <td>0</td>\n",
       "      <td>0</td>\n",
       "      <td>0</td>\n",
       "    </tr>\n",
       "    <tr>\n",
       "      <th>4</th>\n",
       "      <td>1</td>\n",
       "      <td>credit_card</td>\n",
       "      <td>0.1426</td>\n",
       "      <td>102.92</td>\n",
       "      <td>11.299732</td>\n",
       "      <td>14.97</td>\n",
       "      <td>667</td>\n",
       "      <td>4066.000000</td>\n",
       "      <td>4740</td>\n",
       "      <td>39.5</td>\n",
       "      <td>0</td>\n",
       "      <td>1</td>\n",
       "      <td>0</td>\n",
       "      <td>0</td>\n",
       "    </tr>\n",
       "    <tr>\n",
       "      <th>...</th>\n",
       "      <td>...</td>\n",
       "      <td>...</td>\n",
       "      <td>...</td>\n",
       "      <td>...</td>\n",
       "      <td>...</td>\n",
       "      <td>...</td>\n",
       "      <td>...</td>\n",
       "      <td>...</td>\n",
       "      <td>...</td>\n",
       "      <td>...</td>\n",
       "      <td>...</td>\n",
       "      <td>...</td>\n",
       "      <td>...</td>\n",
       "      <td>...</td>\n",
       "    </tr>\n",
       "    <tr>\n",
       "      <th>9573</th>\n",
       "      <td>0</td>\n",
       "      <td>all_other</td>\n",
       "      <td>0.1461</td>\n",
       "      <td>344.76</td>\n",
       "      <td>12.180755</td>\n",
       "      <td>10.39</td>\n",
       "      <td>672</td>\n",
       "      <td>10474.000000</td>\n",
       "      <td>215372</td>\n",
       "      <td>82.1</td>\n",
       "      <td>2</td>\n",
       "      <td>0</td>\n",
       "      <td>0</td>\n",
       "      <td>1</td>\n",
       "    </tr>\n",
       "    <tr>\n",
       "      <th>9574</th>\n",
       "      <td>0</td>\n",
       "      <td>all_other</td>\n",
       "      <td>0.1253</td>\n",
       "      <td>257.70</td>\n",
       "      <td>11.141862</td>\n",
       "      <td>0.21</td>\n",
       "      <td>722</td>\n",
       "      <td>4380.000000</td>\n",
       "      <td>184</td>\n",
       "      <td>1.1</td>\n",
       "      <td>5</td>\n",
       "      <td>0</td>\n",
       "      <td>0</td>\n",
       "      <td>1</td>\n",
       "    </tr>\n",
       "    <tr>\n",
       "      <th>9575</th>\n",
       "      <td>0</td>\n",
       "      <td>debt_consolidation</td>\n",
       "      <td>0.1071</td>\n",
       "      <td>97.81</td>\n",
       "      <td>10.596635</td>\n",
       "      <td>13.09</td>\n",
       "      <td>687</td>\n",
       "      <td>3450.041667</td>\n",
       "      <td>10036</td>\n",
       "      <td>82.9</td>\n",
       "      <td>8</td>\n",
       "      <td>0</td>\n",
       "      <td>0</td>\n",
       "      <td>1</td>\n",
       "    </tr>\n",
       "    <tr>\n",
       "      <th>9576</th>\n",
       "      <td>0</td>\n",
       "      <td>home_improvement</td>\n",
       "      <td>0.1600</td>\n",
       "      <td>351.58</td>\n",
       "      <td>10.819778</td>\n",
       "      <td>19.18</td>\n",
       "      <td>692</td>\n",
       "      <td>1800.000000</td>\n",
       "      <td>0</td>\n",
       "      <td>3.2</td>\n",
       "      <td>5</td>\n",
       "      <td>0</td>\n",
       "      <td>0</td>\n",
       "      <td>1</td>\n",
       "    </tr>\n",
       "    <tr>\n",
       "      <th>9577</th>\n",
       "      <td>0</td>\n",
       "      <td>debt_consolidation</td>\n",
       "      <td>0.1392</td>\n",
       "      <td>853.43</td>\n",
       "      <td>11.264464</td>\n",
       "      <td>16.28</td>\n",
       "      <td>732</td>\n",
       "      <td>4740.000000</td>\n",
       "      <td>37879</td>\n",
       "      <td>57.0</td>\n",
       "      <td>6</td>\n",
       "      <td>0</td>\n",
       "      <td>0</td>\n",
       "      <td>1</td>\n",
       "    </tr>\n",
       "  </tbody>\n",
       "</table>\n",
       "<p>9578 rows × 14 columns</p>\n",
       "</div>"
      ],
      "text/plain": [
       "      credit.policy             purpose  int.rate  installment  \\\n",
       "0                 1  debt_consolidation    0.1189       829.10   \n",
       "1                 1         credit_card    0.1071       228.22   \n",
       "2                 1  debt_consolidation    0.1357       366.86   \n",
       "3                 1  debt_consolidation    0.1008       162.34   \n",
       "4                 1         credit_card    0.1426       102.92   \n",
       "...             ...                 ...       ...          ...   \n",
       "9573              0           all_other    0.1461       344.76   \n",
       "9574              0           all_other    0.1253       257.70   \n",
       "9575              0  debt_consolidation    0.1071        97.81   \n",
       "9576              0    home_improvement    0.1600       351.58   \n",
       "9577              0  debt_consolidation    0.1392       853.43   \n",
       "\n",
       "      log.annual.inc    dti  fico  days.with.cr.line  revol.bal  revol.util  \\\n",
       "0          11.350407  19.48   737        5639.958333      28854        52.1   \n",
       "1          11.082143  14.29   707        2760.000000      33623        76.7   \n",
       "2          10.373491  11.63   682        4710.000000       3511        25.6   \n",
       "3          11.350407   8.10   712        2699.958333      33667        73.2   \n",
       "4          11.299732  14.97   667        4066.000000       4740        39.5   \n",
       "...              ...    ...   ...                ...        ...         ...   \n",
       "9573       12.180755  10.39   672       10474.000000     215372        82.1   \n",
       "9574       11.141862   0.21   722        4380.000000        184         1.1   \n",
       "9575       10.596635  13.09   687        3450.041667      10036        82.9   \n",
       "9576       10.819778  19.18   692        1800.000000          0         3.2   \n",
       "9577       11.264464  16.28   732        4740.000000      37879        57.0   \n",
       "\n",
       "      inq.last.6mths  delinq.2yrs  pub.rec  not.fully.paid  \n",
       "0                  0            0        0               0  \n",
       "1                  0            0        0               0  \n",
       "2                  1            0        0               0  \n",
       "3                  1            0        0               0  \n",
       "4                  0            1        0               0  \n",
       "...              ...          ...      ...             ...  \n",
       "9573               2            0        0               1  \n",
       "9574               5            0        0               1  \n",
       "9575               8            0        0               1  \n",
       "9576               5            0        0               1  \n",
       "9577               6            0        0               1  \n",
       "\n",
       "[9578 rows x 14 columns]"
      ]
     },
     "execution_count": 3,
     "metadata": {},
     "output_type": "execute_result"
    }
   ],
   "source": [
    "df"
   ]
  },
  {
   "cell_type": "code",
   "execution_count": 4,
   "metadata": {},
   "outputs": [
    {
     "name": "stdout",
     "output_type": "stream",
     "text": [
      "<class 'pandas.core.frame.DataFrame'>\n",
      "RangeIndex: 9578 entries, 0 to 9577\n",
      "Data columns (total 14 columns):\n",
      " #   Column             Non-Null Count  Dtype  \n",
      "---  ------             --------------  -----  \n",
      " 0   credit.policy      9578 non-null   int64  \n",
      " 1   purpose            9578 non-null   object \n",
      " 2   int.rate           9578 non-null   float64\n",
      " 3   installment        9578 non-null   float64\n",
      " 4   log.annual.inc     9578 non-null   float64\n",
      " 5   dti                9578 non-null   float64\n",
      " 6   fico               9578 non-null   int64  \n",
      " 7   days.with.cr.line  9578 non-null   float64\n",
      " 8   revol.bal          9578 non-null   int64  \n",
      " 9   revol.util         9578 non-null   float64\n",
      " 10  inq.last.6mths     9578 non-null   int64  \n",
      " 11  delinq.2yrs        9578 non-null   int64  \n",
      " 12  pub.rec            9578 non-null   int64  \n",
      " 13  not.fully.paid     9578 non-null   int64  \n",
      "dtypes: float64(6), int64(7), object(1)\n",
      "memory usage: 1.0+ MB\n"
     ]
    }
   ],
   "source": [
    "df.info()"
   ]
  },
  {
   "cell_type": "markdown",
   "metadata": {},
   "source": [
    "## Check Null Values"
   ]
  },
  {
   "cell_type": "code",
   "execution_count": 5,
   "metadata": {},
   "outputs": [
    {
     "data": {
      "text/plain": [
       "credit.policy        0\n",
       "purpose              0\n",
       "int.rate             0\n",
       "installment          0\n",
       "log.annual.inc       0\n",
       "dti                  0\n",
       "fico                 0\n",
       "days.with.cr.line    0\n",
       "revol.bal            0\n",
       "revol.util           0\n",
       "inq.last.6mths       0\n",
       "delinq.2yrs          0\n",
       "pub.rec              0\n",
       "not.fully.paid       0\n",
       "dtype: int64"
      ]
     },
     "execution_count": 5,
     "metadata": {},
     "output_type": "execute_result"
    }
   ],
   "source": [
    "df.isnull().sum()"
   ]
  },
  {
   "cell_type": "code",
   "execution_count": 6,
   "metadata": {},
   "outputs": [
    {
     "data": {
      "text/html": [
       "<div>\n",
       "<style scoped>\n",
       "    .dataframe tbody tr th:only-of-type {\n",
       "        vertical-align: middle;\n",
       "    }\n",
       "\n",
       "    .dataframe tbody tr th {\n",
       "        vertical-align: top;\n",
       "    }\n",
       "\n",
       "    .dataframe thead th {\n",
       "        text-align: right;\n",
       "    }\n",
       "</style>\n",
       "<table border=\"1\" class=\"dataframe\">\n",
       "  <thead>\n",
       "    <tr style=\"text-align: right;\">\n",
       "      <th></th>\n",
       "      <th>credit.policy</th>\n",
       "      <th>int.rate</th>\n",
       "      <th>installment</th>\n",
       "      <th>log.annual.inc</th>\n",
       "      <th>dti</th>\n",
       "      <th>fico</th>\n",
       "      <th>days.with.cr.line</th>\n",
       "      <th>revol.bal</th>\n",
       "      <th>revol.util</th>\n",
       "      <th>inq.last.6mths</th>\n",
       "      <th>delinq.2yrs</th>\n",
       "      <th>pub.rec</th>\n",
       "      <th>not.fully.paid</th>\n",
       "    </tr>\n",
       "  </thead>\n",
       "  <tbody>\n",
       "    <tr>\n",
       "      <th>count</th>\n",
       "      <td>9578.000000</td>\n",
       "      <td>9578.000000</td>\n",
       "      <td>9578.000000</td>\n",
       "      <td>9578.000000</td>\n",
       "      <td>9578.000000</td>\n",
       "      <td>9578.000000</td>\n",
       "      <td>9578.000000</td>\n",
       "      <td>9.578000e+03</td>\n",
       "      <td>9578.000000</td>\n",
       "      <td>9578.000000</td>\n",
       "      <td>9578.000000</td>\n",
       "      <td>9578.000000</td>\n",
       "      <td>9578.000000</td>\n",
       "    </tr>\n",
       "    <tr>\n",
       "      <th>mean</th>\n",
       "      <td>0.804970</td>\n",
       "      <td>0.122640</td>\n",
       "      <td>319.089413</td>\n",
       "      <td>10.932117</td>\n",
       "      <td>12.606679</td>\n",
       "      <td>710.846314</td>\n",
       "      <td>4560.767197</td>\n",
       "      <td>1.691396e+04</td>\n",
       "      <td>46.799236</td>\n",
       "      <td>1.577469</td>\n",
       "      <td>0.163708</td>\n",
       "      <td>0.062122</td>\n",
       "      <td>0.160054</td>\n",
       "    </tr>\n",
       "    <tr>\n",
       "      <th>std</th>\n",
       "      <td>0.396245</td>\n",
       "      <td>0.026847</td>\n",
       "      <td>207.071301</td>\n",
       "      <td>0.614813</td>\n",
       "      <td>6.883970</td>\n",
       "      <td>37.970537</td>\n",
       "      <td>2496.930377</td>\n",
       "      <td>3.375619e+04</td>\n",
       "      <td>29.014417</td>\n",
       "      <td>2.200245</td>\n",
       "      <td>0.546215</td>\n",
       "      <td>0.262126</td>\n",
       "      <td>0.366676</td>\n",
       "    </tr>\n",
       "    <tr>\n",
       "      <th>min</th>\n",
       "      <td>0.000000</td>\n",
       "      <td>0.060000</td>\n",
       "      <td>15.670000</td>\n",
       "      <td>7.547502</td>\n",
       "      <td>0.000000</td>\n",
       "      <td>612.000000</td>\n",
       "      <td>178.958333</td>\n",
       "      <td>0.000000e+00</td>\n",
       "      <td>0.000000</td>\n",
       "      <td>0.000000</td>\n",
       "      <td>0.000000</td>\n",
       "      <td>0.000000</td>\n",
       "      <td>0.000000</td>\n",
       "    </tr>\n",
       "    <tr>\n",
       "      <th>25%</th>\n",
       "      <td>1.000000</td>\n",
       "      <td>0.103900</td>\n",
       "      <td>163.770000</td>\n",
       "      <td>10.558414</td>\n",
       "      <td>7.212500</td>\n",
       "      <td>682.000000</td>\n",
       "      <td>2820.000000</td>\n",
       "      <td>3.187000e+03</td>\n",
       "      <td>22.600000</td>\n",
       "      <td>0.000000</td>\n",
       "      <td>0.000000</td>\n",
       "      <td>0.000000</td>\n",
       "      <td>0.000000</td>\n",
       "    </tr>\n",
       "    <tr>\n",
       "      <th>50%</th>\n",
       "      <td>1.000000</td>\n",
       "      <td>0.122100</td>\n",
       "      <td>268.950000</td>\n",
       "      <td>10.928884</td>\n",
       "      <td>12.665000</td>\n",
       "      <td>707.000000</td>\n",
       "      <td>4139.958333</td>\n",
       "      <td>8.596000e+03</td>\n",
       "      <td>46.300000</td>\n",
       "      <td>1.000000</td>\n",
       "      <td>0.000000</td>\n",
       "      <td>0.000000</td>\n",
       "      <td>0.000000</td>\n",
       "    </tr>\n",
       "    <tr>\n",
       "      <th>75%</th>\n",
       "      <td>1.000000</td>\n",
       "      <td>0.140700</td>\n",
       "      <td>432.762500</td>\n",
       "      <td>11.291293</td>\n",
       "      <td>17.950000</td>\n",
       "      <td>737.000000</td>\n",
       "      <td>5730.000000</td>\n",
       "      <td>1.824950e+04</td>\n",
       "      <td>70.900000</td>\n",
       "      <td>2.000000</td>\n",
       "      <td>0.000000</td>\n",
       "      <td>0.000000</td>\n",
       "      <td>0.000000</td>\n",
       "    </tr>\n",
       "    <tr>\n",
       "      <th>max</th>\n",
       "      <td>1.000000</td>\n",
       "      <td>0.216400</td>\n",
       "      <td>940.140000</td>\n",
       "      <td>14.528354</td>\n",
       "      <td>29.960000</td>\n",
       "      <td>827.000000</td>\n",
       "      <td>17639.958330</td>\n",
       "      <td>1.207359e+06</td>\n",
       "      <td>119.000000</td>\n",
       "      <td>33.000000</td>\n",
       "      <td>13.000000</td>\n",
       "      <td>5.000000</td>\n",
       "      <td>1.000000</td>\n",
       "    </tr>\n",
       "  </tbody>\n",
       "</table>\n",
       "</div>"
      ],
      "text/plain": [
       "       credit.policy     int.rate  installment  log.annual.inc          dti  \\\n",
       "count    9578.000000  9578.000000  9578.000000     9578.000000  9578.000000   \n",
       "mean        0.804970     0.122640   319.089413       10.932117    12.606679   \n",
       "std         0.396245     0.026847   207.071301        0.614813     6.883970   \n",
       "min         0.000000     0.060000    15.670000        7.547502     0.000000   \n",
       "25%         1.000000     0.103900   163.770000       10.558414     7.212500   \n",
       "50%         1.000000     0.122100   268.950000       10.928884    12.665000   \n",
       "75%         1.000000     0.140700   432.762500       11.291293    17.950000   \n",
       "max         1.000000     0.216400   940.140000       14.528354    29.960000   \n",
       "\n",
       "              fico  days.with.cr.line     revol.bal   revol.util  \\\n",
       "count  9578.000000        9578.000000  9.578000e+03  9578.000000   \n",
       "mean    710.846314        4560.767197  1.691396e+04    46.799236   \n",
       "std      37.970537        2496.930377  3.375619e+04    29.014417   \n",
       "min     612.000000         178.958333  0.000000e+00     0.000000   \n",
       "25%     682.000000        2820.000000  3.187000e+03    22.600000   \n",
       "50%     707.000000        4139.958333  8.596000e+03    46.300000   \n",
       "75%     737.000000        5730.000000  1.824950e+04    70.900000   \n",
       "max     827.000000       17639.958330  1.207359e+06   119.000000   \n",
       "\n",
       "       inq.last.6mths  delinq.2yrs      pub.rec  not.fully.paid  \n",
       "count     9578.000000  9578.000000  9578.000000     9578.000000  \n",
       "mean         1.577469     0.163708     0.062122        0.160054  \n",
       "std          2.200245     0.546215     0.262126        0.366676  \n",
       "min          0.000000     0.000000     0.000000        0.000000  \n",
       "25%          0.000000     0.000000     0.000000        0.000000  \n",
       "50%          1.000000     0.000000     0.000000        0.000000  \n",
       "75%          2.000000     0.000000     0.000000        0.000000  \n",
       "max         33.000000    13.000000     5.000000        1.000000  "
      ]
     },
     "execution_count": 6,
     "metadata": {},
     "output_type": "execute_result"
    }
   ],
   "source": [
    "df.describe()"
   ]
  },
  {
   "cell_type": "markdown",
   "metadata": {},
   "source": [
    "## Label Encoding"
   ]
  },
  {
   "cell_type": "code",
   "execution_count": 7,
   "metadata": {},
   "outputs": [
    {
     "data": {
      "text/plain": [
       "array(['debt_consolidation', 'credit_card', 'all_other',\n",
       "       'home_improvement', 'small_business', 'major_purchase',\n",
       "       'educational'], dtype=object)"
      ]
     },
     "execution_count": 7,
     "metadata": {},
     "output_type": "execute_result"
    }
   ],
   "source": [
    "df[\"purpose\"].unique()"
   ]
  },
  {
   "cell_type": "code",
   "execution_count": 8,
   "metadata": {},
   "outputs": [],
   "source": [
    "encode = LabelEncoder()"
   ]
  },
  {
   "cell_type": "code",
   "execution_count": 9,
   "metadata": {},
   "outputs": [],
   "source": [
    "df[\"purpose\"] = encode.fit_transform(df[\"purpose\"])"
   ]
  },
  {
   "cell_type": "code",
   "execution_count": 10,
   "metadata": {},
   "outputs": [
    {
     "data": {
      "text/plain": [
       "array([2, 1, 0, 4, 6, 5, 3])"
      ]
     },
     "execution_count": 10,
     "metadata": {},
     "output_type": "execute_result"
    }
   ],
   "source": [
    "df[\"purpose\"].unique()"
   ]
  },
  {
   "cell_type": "markdown",
   "metadata": {},
   "source": [
    "## Check Correlation Between Features"
   ]
  },
  {
   "cell_type": "code",
   "execution_count": 11,
   "metadata": {},
   "outputs": [
    {
     "name": "stdout",
     "output_type": "stream",
     "text": [
      "Press Ctrl+C to stop WebAgg server\n"
     ]
    },
    {
     "ename": "RuntimeError",
     "evalue": "This event loop is already running",
     "output_type": "error",
     "traceback": [
      "\u001b[1;31m---------------------------------------------------------------------------\u001b[0m",
      "\u001b[1;31mRuntimeError\u001b[0m                              Traceback (most recent call last)",
      "\u001b[1;32me:\\Tushar Programs\\ML_Project\\Loan Repayment Prediction\\loan.ipynb Cell 16'\u001b[0m in \u001b[0;36m<module>\u001b[1;34m\u001b[0m\n\u001b[0;32m      <a href='vscode-notebook-cell:/e%3A/Tushar%20Programs/ML_Project/Loan%20Repayment%20Prediction/loan.ipynb#ch0000015?line=1'>2</a>\u001b[0m cor \u001b[39m=\u001b[39m df\u001b[39m.\u001b[39mcorr()\n\u001b[0;32m      <a href='vscode-notebook-cell:/e%3A/Tushar%20Programs/ML_Project/Loan%20Repayment%20Prediction/loan.ipynb#ch0000015?line=2'>3</a>\u001b[0m sns\u001b[39m.\u001b[39mheatmap(cor, annot\u001b[39m=\u001b[39m\u001b[39mTrue\u001b[39;00m, cmap \u001b[39m=\u001b[39m plt\u001b[39m.\u001b[39mcm\u001b[39m.\u001b[39mCMRmap_r)\n\u001b[1;32m----> <a href='vscode-notebook-cell:/e%3A/Tushar%20Programs/ML_Project/Loan%20Repayment%20Prediction/loan.ipynb#ch0000015?line=3'>4</a>\u001b[0m plt\u001b[39m.\u001b[39;49mshow()\n",
      "File \u001b[1;32m~\\AppData\\Roaming\\Python\\Python39\\site-packages\\matplotlib\\pyplot.py:368\u001b[0m, in \u001b[0;36mshow\u001b[1;34m(*args, **kwargs)\u001b[0m\n\u001b[0;32m    <a href='file:///c%3A/Users/yadav/AppData/Roaming/Python/Python39/site-packages/matplotlib/pyplot.py?line=323'>324</a>\u001b[0m \u001b[39m\"\"\"\u001b[39;00m\n\u001b[0;32m    <a href='file:///c%3A/Users/yadav/AppData/Roaming/Python/Python39/site-packages/matplotlib/pyplot.py?line=324'>325</a>\u001b[0m \u001b[39mDisplay all open figures.\u001b[39;00m\n\u001b[0;32m    <a href='file:///c%3A/Users/yadav/AppData/Roaming/Python/Python39/site-packages/matplotlib/pyplot.py?line=325'>326</a>\u001b[0m \n\u001b[1;32m   (...)\u001b[0m\n\u001b[0;32m    <a href='file:///c%3A/Users/yadav/AppData/Roaming/Python/Python39/site-packages/matplotlib/pyplot.py?line=364'>365</a>\u001b[0m \u001b[39mexplicitly there.\u001b[39;00m\n\u001b[0;32m    <a href='file:///c%3A/Users/yadav/AppData/Roaming/Python/Python39/site-packages/matplotlib/pyplot.py?line=365'>366</a>\u001b[0m \u001b[39m\"\"\"\u001b[39;00m\n\u001b[0;32m    <a href='file:///c%3A/Users/yadav/AppData/Roaming/Python/Python39/site-packages/matplotlib/pyplot.py?line=366'>367</a>\u001b[0m _warn_if_gui_out_of_main_thread()\n\u001b[1;32m--> <a href='file:///c%3A/Users/yadav/AppData/Roaming/Python/Python39/site-packages/matplotlib/pyplot.py?line=367'>368</a>\u001b[0m \u001b[39mreturn\u001b[39;00m _backend_mod\u001b[39m.\u001b[39mshow(\u001b[39m*\u001b[39margs, \u001b[39m*\u001b[39m\u001b[39m*\u001b[39mkwargs)\n",
      "File \u001b[1;32m~\\AppData\\Roaming\\Python\\Python39\\site-packages\\matplotlib\\backends\\backend_webagg.py:320\u001b[0m, in \u001b[0;36m_BackendWebAgg.show\u001b[1;34m()\u001b[0m\n\u001b[0;32m    <a href='file:///c%3A/Users/yadav/AppData/Roaming/Python/Python39/site-packages/matplotlib/backends/backend_webagg.py?line=316'>317</a>\u001b[0m \u001b[39melse\u001b[39;00m:\n\u001b[0;32m    <a href='file:///c%3A/Users/yadav/AppData/Roaming/Python/Python39/site-packages/matplotlib/backends/backend_webagg.py?line=317'>318</a>\u001b[0m     \u001b[39mprint\u001b[39m(\u001b[39m\"\u001b[39m\u001b[39mTo view figure, visit \u001b[39m\u001b[39m{0}\u001b[39;00m\u001b[39m\"\u001b[39m\u001b[39m.\u001b[39mformat(url))\n\u001b[1;32m--> <a href='file:///c%3A/Users/yadav/AppData/Roaming/Python/Python39/site-packages/matplotlib/backends/backend_webagg.py?line=319'>320</a>\u001b[0m WebAggApplication\u001b[39m.\u001b[39;49mstart()\n",
      "File \u001b[1;32m~\\AppData\\Roaming\\Python\\Python39\\site-packages\\matplotlib\\backends\\backend_webagg.py:277\u001b[0m, in \u001b[0;36mWebAggApplication.start\u001b[1;34m(cls)\u001b[0m\n\u001b[0;32m    <a href='file:///c%3A/Users/yadav/AppData/Roaming/Python/Python39/site-packages/matplotlib/backends/backend_webagg.py?line=274'>275</a>\u001b[0m sys\u001b[39m.\u001b[39mstdout\u001b[39m.\u001b[39mflush()\n\u001b[0;32m    <a href='file:///c%3A/Users/yadav/AppData/Roaming/Python/Python39/site-packages/matplotlib/backends/backend_webagg.py?line=275'>276</a>\u001b[0m \u001b[39mwith\u001b[39;00m catch_sigint():\n\u001b[1;32m--> <a href='file:///c%3A/Users/yadav/AppData/Roaming/Python/Python39/site-packages/matplotlib/backends/backend_webagg.py?line=276'>277</a>\u001b[0m     ioloop\u001b[39m.\u001b[39;49mstart()\n",
      "File \u001b[1;32m~\\AppData\\Roaming\\Python\\Python39\\site-packages\\tornado\\platform\\asyncio.py:199\u001b[0m, in \u001b[0;36mBaseAsyncIOLoop.start\u001b[1;34m(self)\u001b[0m\n\u001b[0;32m    <a href='file:///c%3A/Users/yadav/AppData/Roaming/Python/Python39/site-packages/tornado/platform/asyncio.py?line=196'>197</a>\u001b[0m     \u001b[39mself\u001b[39m\u001b[39m.\u001b[39m_setup_logging()\n\u001b[0;32m    <a href='file:///c%3A/Users/yadav/AppData/Roaming/Python/Python39/site-packages/tornado/platform/asyncio.py?line=197'>198</a>\u001b[0m     asyncio\u001b[39m.\u001b[39mset_event_loop(\u001b[39mself\u001b[39m\u001b[39m.\u001b[39masyncio_loop)\n\u001b[1;32m--> <a href='file:///c%3A/Users/yadav/AppData/Roaming/Python/Python39/site-packages/tornado/platform/asyncio.py?line=198'>199</a>\u001b[0m     \u001b[39mself\u001b[39;49m\u001b[39m.\u001b[39;49masyncio_loop\u001b[39m.\u001b[39;49mrun_forever()\n\u001b[0;32m    <a href='file:///c%3A/Users/yadav/AppData/Roaming/Python/Python39/site-packages/tornado/platform/asyncio.py?line=199'>200</a>\u001b[0m \u001b[39mfinally\u001b[39;00m:\n\u001b[0;32m    <a href='file:///c%3A/Users/yadav/AppData/Roaming/Python/Python39/site-packages/tornado/platform/asyncio.py?line=200'>201</a>\u001b[0m     asyncio\u001b[39m.\u001b[39mset_event_loop(old_loop)\n",
      "File \u001b[1;32mC:\\Program Files\\Python39\\lib\\asyncio\\base_events.py:586\u001b[0m, in \u001b[0;36mBaseEventLoop.run_forever\u001b[1;34m(self)\u001b[0m\n\u001b[0;32m    <a href='file:///c%3A/Program%20Files/Python39/lib/asyncio/base_events.py?line=583'>584</a>\u001b[0m \u001b[39m\"\"\"Run until stop() is called.\"\"\"\u001b[39;00m\n\u001b[0;32m    <a href='file:///c%3A/Program%20Files/Python39/lib/asyncio/base_events.py?line=584'>585</a>\u001b[0m \u001b[39mself\u001b[39m\u001b[39m.\u001b[39m_check_closed()\n\u001b[1;32m--> <a href='file:///c%3A/Program%20Files/Python39/lib/asyncio/base_events.py?line=585'>586</a>\u001b[0m \u001b[39mself\u001b[39;49m\u001b[39m.\u001b[39;49m_check_running()\n\u001b[0;32m    <a href='file:///c%3A/Program%20Files/Python39/lib/asyncio/base_events.py?line=586'>587</a>\u001b[0m \u001b[39mself\u001b[39m\u001b[39m.\u001b[39m_set_coroutine_origin_tracking(\u001b[39mself\u001b[39m\u001b[39m.\u001b[39m_debug)\n\u001b[0;32m    <a href='file:///c%3A/Program%20Files/Python39/lib/asyncio/base_events.py?line=587'>588</a>\u001b[0m \u001b[39mself\u001b[39m\u001b[39m.\u001b[39m_thread_id \u001b[39m=\u001b[39m threading\u001b[39m.\u001b[39mget_ident()\n",
      "File \u001b[1;32mC:\\Program Files\\Python39\\lib\\asyncio\\base_events.py:578\u001b[0m, in \u001b[0;36mBaseEventLoop._check_running\u001b[1;34m(self)\u001b[0m\n\u001b[0;32m    <a href='file:///c%3A/Program%20Files/Python39/lib/asyncio/base_events.py?line=575'>576</a>\u001b[0m \u001b[39mdef\u001b[39;00m \u001b[39m_check_running\u001b[39m(\u001b[39mself\u001b[39m):\n\u001b[0;32m    <a href='file:///c%3A/Program%20Files/Python39/lib/asyncio/base_events.py?line=576'>577</a>\u001b[0m     \u001b[39mif\u001b[39;00m \u001b[39mself\u001b[39m\u001b[39m.\u001b[39mis_running():\n\u001b[1;32m--> <a href='file:///c%3A/Program%20Files/Python39/lib/asyncio/base_events.py?line=577'>578</a>\u001b[0m         \u001b[39mraise\u001b[39;00m \u001b[39mRuntimeError\u001b[39;00m(\u001b[39m'\u001b[39m\u001b[39mThis event loop is already running\u001b[39m\u001b[39m'\u001b[39m)\n\u001b[0;32m    <a href='file:///c%3A/Program%20Files/Python39/lib/asyncio/base_events.py?line=578'>579</a>\u001b[0m     \u001b[39mif\u001b[39;00m events\u001b[39m.\u001b[39m_get_running_loop() \u001b[39mis\u001b[39;00m \u001b[39mnot\u001b[39;00m \u001b[39mNone\u001b[39;00m:\n\u001b[0;32m    <a href='file:///c%3A/Program%20Files/Python39/lib/asyncio/base_events.py?line=579'>580</a>\u001b[0m         \u001b[39mraise\u001b[39;00m \u001b[39mRuntimeError\u001b[39;00m(\n\u001b[0;32m    <a href='file:///c%3A/Program%20Files/Python39/lib/asyncio/base_events.py?line=580'>581</a>\u001b[0m             \u001b[39m'\u001b[39m\u001b[39mCannot run the event loop while another loop is running\u001b[39m\u001b[39m'\u001b[39m)\n",
      "\u001b[1;31mRuntimeError\u001b[0m: This event loop is already running"
     ]
    }
   ],
   "source": [
    "plt.figure(figsize=(12,10))\n",
    "cor = df.corr()\n",
    "sns.heatmap(cor, annot=True, cmap = plt.cm.CMRmap_r)\n",
    "plt.show()"
   ]
  },
  {
   "cell_type": "markdown",
   "metadata": {},
   "source": [
    "## Standard Scaling"
   ]
  },
  {
   "cell_type": "code",
   "execution_count": 12,
   "metadata": {},
   "outputs": [],
   "source": [
    "scaler = StandardScaler()"
   ]
  },
  {
   "cell_type": "code",
   "execution_count": 13,
   "metadata": {},
   "outputs": [],
   "source": [
    "x = df.drop(columns = \"not.fully.paid\")"
   ]
  },
  {
   "cell_type": "code",
   "execution_count": 14,
   "metadata": {},
   "outputs": [],
   "source": [
    "result = scaler.fit_transform(x)"
   ]
  },
  {
   "cell_type": "code",
   "execution_count": 15,
   "metadata": {},
   "outputs": [
    {
     "data": {
      "text/plain": [
       "array([[ 0.49222226,  0.03317632, -0.13931753, ..., -0.71698894,\n",
       "        -0.29973008, -0.23700318],\n",
       "       [ 0.49222226, -0.55966463, -0.57886837, ..., -0.71698894,\n",
       "        -0.29973008, -0.23700318],\n",
       "       [ 0.49222226,  0.03317632,  0.48648368, ..., -0.26247044,\n",
       "        -0.29973008, -0.23700318],\n",
       "       ...,\n",
       "       [-2.03160257,  0.03317632, -0.57886837, ...,  2.91915909,\n",
       "        -0.29973008, -0.23700318],\n",
       "       [-2.03160257,  1.2188582 ,  1.39166043, ...,  1.55560358,\n",
       "        -0.29973008, -0.23700318],\n",
       "       [-2.03160257,  0.03317632,  0.61685894, ...,  2.01012208,\n",
       "        -0.29973008, -0.23700318]])"
      ]
     },
     "execution_count": 15,
     "metadata": {},
     "output_type": "execute_result"
    }
   ],
   "source": [
    "result"
   ]
  },
  {
   "cell_type": "code",
   "execution_count": 16,
   "metadata": {},
   "outputs": [],
   "source": [
    "x_scaler = pd.DataFrame(result, columns=x.columns)"
   ]
  },
  {
   "cell_type": "code",
   "execution_count": 17,
   "metadata": {},
   "outputs": [
    {
     "data": {
      "text/html": [
       "<div>\n",
       "<style scoped>\n",
       "    .dataframe tbody tr th:only-of-type {\n",
       "        vertical-align: middle;\n",
       "    }\n",
       "\n",
       "    .dataframe tbody tr th {\n",
       "        vertical-align: top;\n",
       "    }\n",
       "\n",
       "    .dataframe thead th {\n",
       "        text-align: right;\n",
       "    }\n",
       "</style>\n",
       "<table border=\"1\" class=\"dataframe\">\n",
       "  <thead>\n",
       "    <tr style=\"text-align: right;\">\n",
       "      <th></th>\n",
       "      <th>credit.policy</th>\n",
       "      <th>purpose</th>\n",
       "      <th>int.rate</th>\n",
       "      <th>installment</th>\n",
       "      <th>log.annual.inc</th>\n",
       "      <th>dti</th>\n",
       "      <th>fico</th>\n",
       "      <th>days.with.cr.line</th>\n",
       "      <th>revol.bal</th>\n",
       "      <th>revol.util</th>\n",
       "      <th>inq.last.6mths</th>\n",
       "      <th>delinq.2yrs</th>\n",
       "      <th>pub.rec</th>\n",
       "    </tr>\n",
       "  </thead>\n",
       "  <tbody>\n",
       "    <tr>\n",
       "      <th>count</th>\n",
       "      <td>9.578000e+03</td>\n",
       "      <td>9.578000e+03</td>\n",
       "      <td>9.578000e+03</td>\n",
       "      <td>9.578000e+03</td>\n",
       "      <td>9.578000e+03</td>\n",
       "      <td>9.578000e+03</td>\n",
       "      <td>9.578000e+03</td>\n",
       "      <td>9.578000e+03</td>\n",
       "      <td>9.578000e+03</td>\n",
       "      <td>9.578000e+03</td>\n",
       "      <td>9.578000e+03</td>\n",
       "      <td>9.578000e+03</td>\n",
       "      <td>9.578000e+03</td>\n",
       "    </tr>\n",
       "    <tr>\n",
       "      <th>mean</th>\n",
       "      <td>-9.495664e-17</td>\n",
       "      <td>4.896202e-17</td>\n",
       "      <td>-4.747832e-17</td>\n",
       "      <td>-4.896202e-17</td>\n",
       "      <td>1.348681e-15</td>\n",
       "      <td>-7.121748e-17</td>\n",
       "      <td>2.848699e-16</td>\n",
       "      <td>-5.934790e-17</td>\n",
       "      <td>-1.186958e-17</td>\n",
       "      <td>4.154353e-17</td>\n",
       "      <td>2.373916e-17</td>\n",
       "      <td>1.186958e-17</td>\n",
       "      <td>5.638051e-17</td>\n",
       "    </tr>\n",
       "    <tr>\n",
       "      <th>std</th>\n",
       "      <td>1.000052e+00</td>\n",
       "      <td>1.000052e+00</td>\n",
       "      <td>1.000052e+00</td>\n",
       "      <td>1.000052e+00</td>\n",
       "      <td>1.000052e+00</td>\n",
       "      <td>1.000052e+00</td>\n",
       "      <td>1.000052e+00</td>\n",
       "      <td>1.000052e+00</td>\n",
       "      <td>1.000052e+00</td>\n",
       "      <td>1.000052e+00</td>\n",
       "      <td>1.000052e+00</td>\n",
       "      <td>1.000052e+00</td>\n",
       "      <td>1.000052e+00</td>\n",
       "    </tr>\n",
       "    <tr>\n",
       "      <th>min</th>\n",
       "      <td>-2.031603e+00</td>\n",
       "      <td>-1.152506e+00</td>\n",
       "      <td>-2.333347e+00</td>\n",
       "      <td>-1.465366e+00</td>\n",
       "      <td>-5.505403e+00</td>\n",
       "      <td>-1.831405e+00</td>\n",
       "      <td>-2.603373e+00</td>\n",
       "      <td>-1.754970e+00</td>\n",
       "      <td>-5.010888e-01</td>\n",
       "      <td>-1.613049e+00</td>\n",
       "      <td>-7.169889e-01</td>\n",
       "      <td>-2.997301e-01</td>\n",
       "      <td>-2.370032e-01</td>\n",
       "    </tr>\n",
       "    <tr>\n",
       "      <th>25%</th>\n",
       "      <td>4.922223e-01</td>\n",
       "      <td>-5.596646e-01</td>\n",
       "      <td>-6.980686e-01</td>\n",
       "      <td>-7.501161e-01</td>\n",
       "      <td>-6.078650e-01</td>\n",
       "      <td>-7.836264e-01</td>\n",
       "      <td>-7.597422e-01</td>\n",
       "      <td>-6.971993e-01</td>\n",
       "      <td>-4.066715e-01</td>\n",
       "      <td>-8.340853e-01</td>\n",
       "      <td>-7.169889e-01</td>\n",
       "      <td>-2.997301e-01</td>\n",
       "      <td>-2.370032e-01</td>\n",
       "    </tr>\n",
       "    <tr>\n",
       "      <th>50%</th>\n",
       "      <td>4.922223e-01</td>\n",
       "      <td>3.317632e-02</td>\n",
       "      <td>-2.011729e-02</td>\n",
       "      <td>-2.421486e-01</td>\n",
       "      <td>-5.259710e-03</td>\n",
       "      <td>8.472466e-03</td>\n",
       "      <td>-1.013026e-01</td>\n",
       "      <td>-1.685393e-01</td>\n",
       "      <td>-2.464259e-01</td>\n",
       "      <td>-1.720737e-02</td>\n",
       "      <td>-2.624704e-01</td>\n",
       "      <td>-2.997301e-01</td>\n",
       "      <td>-2.370032e-01</td>\n",
       "    </tr>\n",
       "    <tr>\n",
       "      <th>75%</th>\n",
       "      <td>4.922223e-01</td>\n",
       "      <td>3.317632e-02</td>\n",
       "      <td>6.727340e-01</td>\n",
       "      <td>5.489849e-01</td>\n",
       "      <td>5.842340e-01</td>\n",
       "      <td>7.762382e-01</td>\n",
       "      <td>6.888249e-01</td>\n",
       "      <td>4.682925e-01</td>\n",
       "      <td>3.956625e-02</td>\n",
       "      <td>8.306913e-01</td>\n",
       "      <td>1.920481e-01</td>\n",
       "      <td>-2.997301e-01</td>\n",
       "      <td>-2.370032e-01</td>\n",
       "    </tr>\n",
       "    <tr>\n",
       "      <th>max</th>\n",
       "      <td>4.922223e-01</td>\n",
       "      <td>2.404540e+00</td>\n",
       "      <td>3.492564e+00</td>\n",
       "      <td>2.999368e+00</td>\n",
       "      <td>5.849627e+00</td>\n",
       "      <td>2.520962e+00</td>\n",
       "      <td>3.059207e+00</td>\n",
       "      <td>5.238382e+00</td>\n",
       "      <td>3.526782e+01</td>\n",
       "      <td>2.488574e+00</td>\n",
       "      <td>1.428212e+01</td>\n",
       "      <td>2.350167e+01</td>\n",
       "      <td>1.883877e+01</td>\n",
       "    </tr>\n",
       "  </tbody>\n",
       "</table>\n",
       "</div>"
      ],
      "text/plain": [
       "       credit.policy       purpose      int.rate   installment  \\\n",
       "count   9.578000e+03  9.578000e+03  9.578000e+03  9.578000e+03   \n",
       "mean   -9.495664e-17  4.896202e-17 -4.747832e-17 -4.896202e-17   \n",
       "std     1.000052e+00  1.000052e+00  1.000052e+00  1.000052e+00   \n",
       "min    -2.031603e+00 -1.152506e+00 -2.333347e+00 -1.465366e+00   \n",
       "25%     4.922223e-01 -5.596646e-01 -6.980686e-01 -7.501161e-01   \n",
       "50%     4.922223e-01  3.317632e-02 -2.011729e-02 -2.421486e-01   \n",
       "75%     4.922223e-01  3.317632e-02  6.727340e-01  5.489849e-01   \n",
       "max     4.922223e-01  2.404540e+00  3.492564e+00  2.999368e+00   \n",
       "\n",
       "       log.annual.inc           dti          fico  days.with.cr.line  \\\n",
       "count    9.578000e+03  9.578000e+03  9.578000e+03       9.578000e+03   \n",
       "mean     1.348681e-15 -7.121748e-17  2.848699e-16      -5.934790e-17   \n",
       "std      1.000052e+00  1.000052e+00  1.000052e+00       1.000052e+00   \n",
       "min     -5.505403e+00 -1.831405e+00 -2.603373e+00      -1.754970e+00   \n",
       "25%     -6.078650e-01 -7.836264e-01 -7.597422e-01      -6.971993e-01   \n",
       "50%     -5.259710e-03  8.472466e-03 -1.013026e-01      -1.685393e-01   \n",
       "75%      5.842340e-01  7.762382e-01  6.888249e-01       4.682925e-01   \n",
       "max      5.849627e+00  2.520962e+00  3.059207e+00       5.238382e+00   \n",
       "\n",
       "          revol.bal    revol.util  inq.last.6mths   delinq.2yrs       pub.rec  \n",
       "count  9.578000e+03  9.578000e+03    9.578000e+03  9.578000e+03  9.578000e+03  \n",
       "mean  -1.186958e-17  4.154353e-17    2.373916e-17  1.186958e-17  5.638051e-17  \n",
       "std    1.000052e+00  1.000052e+00    1.000052e+00  1.000052e+00  1.000052e+00  \n",
       "min   -5.010888e-01 -1.613049e+00   -7.169889e-01 -2.997301e-01 -2.370032e-01  \n",
       "25%   -4.066715e-01 -8.340853e-01   -7.169889e-01 -2.997301e-01 -2.370032e-01  \n",
       "50%   -2.464259e-01 -1.720737e-02   -2.624704e-01 -2.997301e-01 -2.370032e-01  \n",
       "75%    3.956625e-02  8.306913e-01    1.920481e-01 -2.997301e-01 -2.370032e-01  \n",
       "max    3.526782e+01  2.488574e+00    1.428212e+01  2.350167e+01  1.883877e+01  "
      ]
     },
     "execution_count": 17,
     "metadata": {},
     "output_type": "execute_result"
    }
   ],
   "source": [
    "x_scaler.describe()"
   ]
  },
  {
   "cell_type": "code",
   "execution_count": 18,
   "metadata": {},
   "outputs": [],
   "source": [
    "x_scaler[\"not.fully.paid\"] = df[\"not.fully.paid\"]"
   ]
  },
  {
   "cell_type": "markdown",
   "metadata": {},
   "source": [
    "## Check VIF Score of Features"
   ]
  },
  {
   "cell_type": "code",
   "execution_count": 19,
   "metadata": {},
   "outputs": [
    {
     "name": "stdout",
     "output_type": "stream",
     "text": [
      "         VIF           variable\n",
      "0   1.667380      credit.policy\n",
      "1   1.073101            purpose\n",
      "2   2.836731           int.rate\n",
      "3   1.609075        installment\n",
      "4   1.535681     log.annual.inc\n",
      "5   1.200531                dti\n",
      "6   3.363273               fico\n",
      "7   1.305372  days.with.cr.line\n",
      "8   1.367487          revol.bal\n",
      "9   1.734463         revol.util\n",
      "10  1.466583     inq.last.6mths\n",
      "11  1.140323        delinq.2yrs\n",
      "12  1.049257            pub.rec\n",
      "13  1.047676     not.fully.paid\n"
     ]
    }
   ],
   "source": [
    "vif = pd.DataFrame()\n",
    "vif['VIF'] = [variance_inflation_factor(x_scaler.values, i) for i in range(x_scaler.shape[1])]\n",
    "vif['variable'] = x_scaler.columns\n",
    "print(vif)"
   ]
  },
  {
   "cell_type": "markdown",
   "metadata": {},
   "source": [
    "## Handeling Outliers"
   ]
  },
  {
   "cell_type": "code",
   "execution_count": 20,
   "metadata": {},
   "outputs": [],
   "source": [
    "fig,ax = plt.subplots()\n",
    "plt.figure(figsize=(40,80))\n",
    "sns.boxplot(data = x_scaler, ax = ax)\n",
    "plt.show()"
   ]
  },
  {
   "cell_type": "code",
   "execution_count": 21,
   "metadata": {},
   "outputs": [],
   "source": [
    "q = x_scaler[x_scaler.columns[7]].quantile(.94)\n",
    "df_new = x_scaler[x_scaler[x_scaler.columns[7]]<q]"
   ]
  },
  {
   "cell_type": "code",
   "execution_count": 22,
   "metadata": {},
   "outputs": [],
   "source": [
    "q = df_new[df_new.columns[4]].quantile(.98)\n",
    "df_new = df_new[df_new[df_new.columns[4]]<q]\n",
    "\n",
    "q = df_new[df_new.columns[4]].quantile(.98)\n",
    "df_new = df_new[df_new[df_new.columns[4]]> -q]"
   ]
  },
  {
   "cell_type": "code",
   "execution_count": 23,
   "metadata": {},
   "outputs": [],
   "source": [
    "q = df_new[df_new.columns[11]].quantile(.98)\n",
    "df_new = df_new[df_new[df_new.columns[11]]<q]"
   ]
  },
  {
   "cell_type": "code",
   "execution_count": 24,
   "metadata": {},
   "outputs": [],
   "source": [
    "q = df_new[df_new.columns[10]].quantile(.98)\n",
    "df_new = df_new[df_new[df_new.columns[10]]<q]"
   ]
  },
  {
   "cell_type": "code",
   "execution_count": 25,
   "metadata": {},
   "outputs": [],
   "source": [
    "q = df_new[df_new.columns[8]].quantile(.98)\n",
    "df_new = df_new[df_new[df_new.columns[8]]<q]"
   ]
  },
  {
   "cell_type": "code",
   "execution_count": 26,
   "metadata": {},
   "outputs": [],
   "source": [
    "q = df_new[df_new.columns[12]].quantile(.99)\n",
    "df_new = df_new[df_new[df_new.columns[12]]<q]"
   ]
  },
  {
   "cell_type": "code",
   "execution_count": 27,
   "metadata": {},
   "outputs": [],
   "source": [
    "q = df_new[df_new.columns[1]].quantile(.99)\n",
    "df_new = df_new[df_new[df_new.columns[1]]<q]"
   ]
  },
  {
   "cell_type": "code",
   "execution_count": 28,
   "metadata": {},
   "outputs": [],
   "source": [
    "q = df_new[df_new.columns[2]].quantile(.99)\n",
    "df_new = df_new[df_new[df_new.columns[2]]<q]"
   ]
  },
  {
   "cell_type": "code",
   "execution_count": 29,
   "metadata": {},
   "outputs": [],
   "source": [
    "fig,ax = plt.subplots()\n",
    "plt.figure(figsize=(40,80))\n",
    "sns.boxplot(data = df_new, ax = ax)\n",
    "plt.show()"
   ]
  },
  {
   "cell_type": "code",
   "execution_count": 30,
   "metadata": {},
   "outputs": [
    {
     "data": {
      "text/plain": [
       "(6762, 14)"
      ]
     },
     "execution_count": 30,
     "metadata": {},
     "output_type": "execute_result"
    }
   ],
   "source": [
    "df_new.shape"
   ]
  },
  {
   "cell_type": "markdown",
   "metadata": {},
   "source": [
    "## Separating Independent and Dependent Variables"
   ]
  },
  {
   "cell_type": "code",
   "execution_count": 31,
   "metadata": {},
   "outputs": [],
   "source": [
    "x = df_new.drop(columns=\"not.fully.paid\")"
   ]
  },
  {
   "cell_type": "code",
   "execution_count": 32,
   "metadata": {},
   "outputs": [],
   "source": [
    "y = df_new[\"not.fully.paid\"]"
   ]
  },
  {
   "cell_type": "markdown",
   "metadata": {},
   "source": [
    "## Train Test Split"
   ]
  },
  {
   "cell_type": "code",
   "execution_count": 33,
   "metadata": {},
   "outputs": [],
   "source": [
    "x_train, x_test, y_train, y_test = train_test_split(x, y, test_size=.3, random_state= 22)"
   ]
  },
  {
   "cell_type": "markdown",
   "metadata": {},
   "source": [
    "## Model Building"
   ]
  },
  {
   "cell_type": "markdown",
   "metadata": {},
   "source": [
    "1) Logistic Regression"
   ]
  },
  {
   "cell_type": "code",
   "execution_count": 34,
   "metadata": {},
   "outputs": [
    {
     "data": {
      "text/plain": [
       "'r = 500\\nl = []\\nfor i in range(500):\\n    x_train, x_test, y_train, y_test = train_test_split(x, y, test_size=.3, random_state=i)\\n    xgb_model1 = LogisticRegression()\\n    xgb_model1.fit(x_train, y_train)\\n    test = xgb_model1.score(x_test, y_test)\\n    train = xgb_model1.score(x_train, y_train)\\n    if test > .7:\\n        l.append([test, train, i])'"
      ]
     },
     "execution_count": 34,
     "metadata": {},
     "output_type": "execute_result"
    }
   ],
   "source": [
    "\"\"\"r = 500\n",
    "l = []\n",
    "for i in range(500):\n",
    "    x_train, x_test, y_train, y_test = train_test_split(x, y, test_size=.3, random_state=i)\n",
    "    xgb_model1 = LogisticRegression()\n",
    "    xgb_model1.fit(x_train, y_train)\n",
    "    test = xgb_model1.score(x_test, y_test)\n",
    "    train = xgb_model1.score(x_train, y_train)\n",
    "    if test > .7:\n",
    "        l.append([test, train, i])\"\"\""
   ]
  },
  {
   "cell_type": "code",
   "execution_count": 35,
   "metadata": {},
   "outputs": [
    {
     "data": {
      "text/plain": [
       "'for i in l:\\n    if i[1] > .86:\\n        print(i)'"
      ]
     },
     "execution_count": 35,
     "metadata": {},
     "output_type": "execute_result"
    }
   ],
   "source": [
    "\"\"\"for i in l:\n",
    "    if i[1] > .86:\n",
    "        print(i)\"\"\""
   ]
  },
  {
   "cell_type": "code",
   "execution_count": 36,
   "metadata": {},
   "outputs": [],
   "source": [
    "logistic = LogisticRegression()"
   ]
  },
  {
   "cell_type": "code",
   "execution_count": 37,
   "metadata": {},
   "outputs": [
    {
     "data": {
      "text/plain": [
       "LogisticRegression()"
      ]
     },
     "execution_count": 37,
     "metadata": {},
     "output_type": "execute_result"
    }
   ],
   "source": [
    "logistic.fit(x_train, y_train)"
   ]
  },
  {
   "cell_type": "code",
   "execution_count": 38,
   "metadata": {},
   "outputs": [
    {
     "data": {
      "text/plain": [
       "0.8649904922881894"
      ]
     },
     "execution_count": 38,
     "metadata": {},
     "output_type": "execute_result"
    }
   ],
   "source": [
    "logistic.score(x_train, y_train)"
   ]
  },
  {
   "cell_type": "code",
   "execution_count": 39,
   "metadata": {},
   "outputs": [
    {
     "data": {
      "text/plain": [
       "0.8649581074420897"
      ]
     },
     "execution_count": 39,
     "metadata": {},
     "output_type": "execute_result"
    }
   ],
   "source": [
    "logistic.score(x_test, y_test)"
   ]
  },
  {
   "cell_type": "code",
   "execution_count": 40,
   "metadata": {},
   "outputs": [],
   "source": [
    "y_test_pred1 = logistic.predict(x_test)"
   ]
  },
  {
   "cell_type": "code",
   "execution_count": 41,
   "metadata": {},
   "outputs": [
    {
     "name": "stdout",
     "output_type": "stream",
     "text": [
      "Accuracy Score = 0.86\n",
      "Precision Score = 1.0\n",
      "Confucion Matrix =\n",
      " [[1753    0]\n",
      " [ 274    2]]\n",
      "Recall Score = 0.007246376811594203\n",
      "AUC Score = 0.5036231884057971\n",
      "Classification Report =\n",
      "               precision    recall  f1-score   support\n",
      "\n",
      "           0       0.86      1.00      0.93      1753\n",
      "           1       1.00      0.01      0.01       276\n",
      "\n",
      "    accuracy                           0.86      2029\n",
      "   macro avg       0.93      0.50      0.47      2029\n",
      "weighted avg       0.88      0.86      0.80      2029\n",
      "\n"
     ]
    }
   ],
   "source": [
    "print(\"Accuracy Score =\", round(sm.accuracy_score(y_test, y_test_pred1), 2)) \n",
    "print(\"Precision Score =\", sm.precision_score(y_test, y_test_pred1))\n",
    "print(\"Confucion Matrix =\\n\", sm.confusion_matrix(y_test, y_test_pred1))\n",
    "print(\"Recall Score =\", sm.recall_score(y_test, y_test_pred1))\n",
    "print(\"AUC Score =\",sm. roc_auc_score(y_test, y_test_pred1))\n",
    "print(\"Classification Report =\\n\", sm.classification_report(y_test, y_test_pred1))\n"
   ]
  },
  {
   "cell_type": "markdown",
   "metadata": {},
   "source": [
    "2) Decision Tree Classifier"
   ]
  },
  {
   "cell_type": "code",
   "execution_count": 42,
   "metadata": {},
   "outputs": [],
   "source": [
    "tree = DecisionTreeClassifier()"
   ]
  },
  {
   "cell_type": "code",
   "execution_count": 43,
   "metadata": {},
   "outputs": [
    {
     "data": {
      "text/plain": [
       "DecisionTreeClassifier()"
      ]
     },
     "execution_count": 43,
     "metadata": {},
     "output_type": "execute_result"
    }
   ],
   "source": [
    "tree.fit(x_train, y_train)"
   ]
  },
  {
   "cell_type": "code",
   "execution_count": 44,
   "metadata": {},
   "outputs": [
    {
     "data": {
      "text/plain": [
       "1.0"
      ]
     },
     "execution_count": 44,
     "metadata": {},
     "output_type": "execute_result"
    }
   ],
   "source": [
    "tree.score(x_train, y_train)"
   ]
  },
  {
   "cell_type": "code",
   "execution_count": 45,
   "metadata": {},
   "outputs": [
    {
     "data": {
      "text/plain": [
       "0.7654016757023164"
      ]
     },
     "execution_count": 45,
     "metadata": {},
     "output_type": "execute_result"
    }
   ],
   "source": [
    "tree.score(x_test, y_test)"
   ]
  },
  {
   "cell_type": "code",
   "execution_count": 46,
   "metadata": {},
   "outputs": [],
   "source": [
    "y_test_pred2 = tree.predict(x_test)"
   ]
  },
  {
   "cell_type": "code",
   "execution_count": 47,
   "metadata": {},
   "outputs": [
    {
     "name": "stdout",
     "output_type": "stream",
     "text": [
      "Accuracy Score = 0.77\n",
      "Precision Score = 0.16216216216216217\n",
      "Confucion Matrix =\n",
      " [[1505  248]\n",
      " [ 228   48]]\n",
      "Recall Score = 0.17391304347826086\n",
      "AUC Score = 0.5162206403928669\n",
      "Classification Report =\n",
      "               precision    recall  f1-score   support\n",
      "\n",
      "           0       0.87      0.86      0.86      1753\n",
      "           1       0.16      0.17      0.17       276\n",
      "\n",
      "    accuracy                           0.77      2029\n",
      "   macro avg       0.52      0.52      0.52      2029\n",
      "weighted avg       0.77      0.77      0.77      2029\n",
      "\n"
     ]
    }
   ],
   "source": [
    "print(\"Accuracy Score =\", round(sm.accuracy_score(y_test, y_test_pred2), 2)) \n",
    "print(\"Precision Score =\", sm.precision_score(y_test, y_test_pred2))\n",
    "print(\"Confucion Matrix =\\n\", sm.confusion_matrix(y_test, y_test_pred2))\n",
    "print(\"Recall Score =\", sm.recall_score(y_test, y_test_pred2))\n",
    "print(\"AUC Score =\", sm.roc_auc_score(y_test, y_test_pred2))\n",
    "print(\"Classification Report =\\n\", sm.classification_report(y_test, y_test_pred2))\n"
   ]
  },
  {
   "cell_type": "markdown",
   "metadata": {},
   "source": [
    "3) KNeighbors Classifier"
   ]
  },
  {
   "cell_type": "code",
   "execution_count": 48,
   "metadata": {},
   "outputs": [
    {
     "data": {
      "text/plain": [
       "'mean_acc = np.zeros(20)\\nfor i in range(1,21):\\n    #Train Model and Predict  \\n    knn = KNeighborsClassifier(n_neighbors = i).fit(x_train,y_train)\\n    yhat= knn.predict(x_test)\\n    mean_acc[i-1] = sm.accuracy_score(y_test, yhat)\\nmean_acc'"
      ]
     },
     "execution_count": 48,
     "metadata": {},
     "output_type": "execute_result"
    }
   ],
   "source": [
    "\"\"\"mean_acc = np.zeros(20)\n",
    "for i in range(1,21):\n",
    "    #Train Model and Predict  \n",
    "    knn = KNeighborsClassifier(n_neighbors = i).fit(x_train,y_train)\n",
    "    yhat= knn.predict(x_test)\n",
    "    mean_acc[i-1] = sm.accuracy_score(y_test, yhat)\n",
    "mean_acc\"\"\""
   ]
  },
  {
   "cell_type": "code",
   "execution_count": 49,
   "metadata": {},
   "outputs": [
    {
     "data": {
      "text/plain": [
       "'r = 500\\nl = []\\nfor i in range(500):\\n    x_train, x_test, y_train, y_test = train_test_split(x, y, test_size=.3, random_state=i)\\n    xgb_model1 = KNeighborsClassifier()\\n    xgb_model1.fit(x_train, y_train)\\n    test = xgb_model1.score(x_test, y_test)\\n    train = xgb_model1.score(x_train, y_train)\\n    if test > .7:\\n        l.append([test, train, i])'"
      ]
     },
     "execution_count": 49,
     "metadata": {},
     "output_type": "execute_result"
    }
   ],
   "source": [
    "\"\"\"r = 500\n",
    "l = []\n",
    "for i in range(500):\n",
    "    x_train, x_test, y_train, y_test = train_test_split(x, y, test_size=.3, random_state=i)\n",
    "    xgb_model1 = KNeighborsClassifier()\n",
    "    xgb_model1.fit(x_train, y_train)\n",
    "    test = xgb_model1.score(x_test, y_test)\n",
    "    train = xgb_model1.score(x_train, y_train)\n",
    "    if test > .7:\n",
    "        l.append([test, train, i])\"\"\""
   ]
  },
  {
   "cell_type": "code",
   "execution_count": 50,
   "metadata": {},
   "outputs": [
    {
     "data": {
      "text/plain": [
       "'for i in l:\\n    if i[0] > .84:\\n        print(i)'"
      ]
     },
     "execution_count": 50,
     "metadata": {},
     "output_type": "execute_result"
    }
   ],
   "source": [
    "\"\"\"for i in l:\n",
    "    if i[0] > .84:\n",
    "        print(i)\"\"\""
   ]
  },
  {
   "cell_type": "code",
   "execution_count": 51,
   "metadata": {},
   "outputs": [],
   "source": [
    "KNN = KNeighborsClassifier(n_neighbors=18)"
   ]
  },
  {
   "cell_type": "code",
   "execution_count": 52,
   "metadata": {},
   "outputs": [
    {
     "data": {
      "text/plain": [
       "KNeighborsClassifier(n_neighbors=18)"
      ]
     },
     "execution_count": 52,
     "metadata": {},
     "output_type": "execute_result"
    }
   ],
   "source": [
    "KNN.fit(x_train, y_train)"
   ]
  },
  {
   "cell_type": "code",
   "execution_count": 53,
   "metadata": {},
   "outputs": [
    {
     "data": {
      "text/plain": [
       "0.8654130572575534"
      ]
     },
     "execution_count": 53,
     "metadata": {},
     "output_type": "execute_result"
    }
   ],
   "source": [
    "KNN.score(x_train, y_train)"
   ]
  },
  {
   "cell_type": "code",
   "execution_count": 54,
   "metadata": {},
   "outputs": [
    {
     "data": {
      "text/plain": [
       "0.8639724001971415"
      ]
     },
     "execution_count": 54,
     "metadata": {},
     "output_type": "execute_result"
    }
   ],
   "source": [
    "KNN.score(x_test, y_test)"
   ]
  },
  {
   "cell_type": "code",
   "execution_count": 55,
   "metadata": {},
   "outputs": [],
   "source": [
    "y_test_pred3 = KNN.predict(x_test)"
   ]
  },
  {
   "cell_type": "code",
   "execution_count": 56,
   "metadata": {},
   "outputs": [
    {
     "name": "stdout",
     "output_type": "stream",
     "text": [
      "Accuracy Score = 0.86\n",
      "Precision Score = 0.0\n",
      "Confucion Matrix =\n",
      " [[1753    0]\n",
      " [ 276    0]]\n",
      "Recall Score = 0.0\n",
      "AUC Score = 0.5\n",
      "Classification Report =\n",
      "               precision    recall  f1-score   support\n",
      "\n",
      "           0       0.86      1.00      0.93      1753\n",
      "           1       0.00      0.00      0.00       276\n",
      "\n",
      "    accuracy                           0.86      2029\n",
      "   macro avg       0.43      0.50      0.46      2029\n",
      "weighted avg       0.75      0.86      0.80      2029\n",
      "\n"
     ]
    },
    {
     "name": "stderr",
     "output_type": "stream",
     "text": [
      "C:\\Users\\yadav\\AppData\\Roaming\\Python\\Python39\\site-packages\\sklearn\\metrics\\_classification.py:1318: UndefinedMetricWarning: Precision is ill-defined and being set to 0.0 due to no predicted samples. Use `zero_division` parameter to control this behavior.\n",
      "  _warn_prf(average, modifier, msg_start, len(result))\n",
      "C:\\Users\\yadav\\AppData\\Roaming\\Python\\Python39\\site-packages\\sklearn\\metrics\\_classification.py:1318: UndefinedMetricWarning: Precision and F-score are ill-defined and being set to 0.0 in labels with no predicted samples. Use `zero_division` parameter to control this behavior.\n",
      "  _warn_prf(average, modifier, msg_start, len(result))\n",
      "C:\\Users\\yadav\\AppData\\Roaming\\Python\\Python39\\site-packages\\sklearn\\metrics\\_classification.py:1318: UndefinedMetricWarning: Precision and F-score are ill-defined and being set to 0.0 in labels with no predicted samples. Use `zero_division` parameter to control this behavior.\n",
      "  _warn_prf(average, modifier, msg_start, len(result))\n",
      "C:\\Users\\yadav\\AppData\\Roaming\\Python\\Python39\\site-packages\\sklearn\\metrics\\_classification.py:1318: UndefinedMetricWarning: Precision and F-score are ill-defined and being set to 0.0 in labels with no predicted samples. Use `zero_division` parameter to control this behavior.\n",
      "  _warn_prf(average, modifier, msg_start, len(result))\n"
     ]
    }
   ],
   "source": [
    "print(\"Accuracy Score =\", round(sm.accuracy_score(y_test, y_test_pred3), 2)) \n",
    "print(\"Precision Score =\", sm.precision_score(y_test, y_test_pred3))\n",
    "print(\"Confucion Matrix =\\n\", sm.confusion_matrix(y_test, y_test_pred3))\n",
    "print(\"Recall Score =\", sm.recall_score(y_test, y_test_pred3))\n",
    "print(\"AUC Score =\", sm.roc_auc_score(y_test, y_test_pred3))\n",
    "print(\"Classification Report =\\n\", sm.classification_report(y_test, y_test_pred3))\n"
   ]
  },
  {
   "cell_type": "markdown",
   "metadata": {},
   "source": [
    "4) Random Forest Classifier"
   ]
  },
  {
   "cell_type": "code",
   "execution_count": 57,
   "metadata": {},
   "outputs": [],
   "source": [
    "random = RandomForestClassifier()"
   ]
  },
  {
   "cell_type": "code",
   "execution_count": 58,
   "metadata": {},
   "outputs": [
    {
     "data": {
      "text/plain": [
       "RandomForestClassifier()"
      ]
     },
     "execution_count": 58,
     "metadata": {},
     "output_type": "execute_result"
    }
   ],
   "source": [
    "random.fit(x_train, y_train)"
   ]
  },
  {
   "cell_type": "code",
   "execution_count": 59,
   "metadata": {},
   "outputs": [
    {
     "data": {
      "text/plain": [
       "1.0"
      ]
     },
     "execution_count": 59,
     "metadata": {},
     "output_type": "execute_result"
    }
   ],
   "source": [
    "random.score(x_train, y_train)"
   ]
  },
  {
   "cell_type": "code",
   "execution_count": 60,
   "metadata": {},
   "outputs": [
    {
     "data": {
      "text/plain": [
       "0.8629866929521932"
      ]
     },
     "execution_count": 60,
     "metadata": {},
     "output_type": "execute_result"
    }
   ],
   "source": [
    "random.score(x_test, y_test)"
   ]
  },
  {
   "cell_type": "code",
   "execution_count": 61,
   "metadata": {},
   "outputs": [],
   "source": [
    "y_test_pred4 = random.predict(x_test)"
   ]
  },
  {
   "cell_type": "code",
   "execution_count": 62,
   "metadata": {},
   "outputs": [
    {
     "name": "stdout",
     "output_type": "stream",
     "text": [
      "Accuracy Score = 0.86\n",
      "Precision Score = 0.3333333333333333\n",
      "Confucion Matrix =\n",
      " [[1749    4]\n",
      " [ 274    2]]\n",
      "Recall Score = 0.007246376811594203\n",
      "AUC Score = 0.5024822870937605\n",
      "Classification Report =\n",
      "               precision    recall  f1-score   support\n",
      "\n",
      "           0       0.86      1.00      0.93      1753\n",
      "           1       0.33      0.01      0.01       276\n",
      "\n",
      "    accuracy                           0.86      2029\n",
      "   macro avg       0.60      0.50      0.47      2029\n",
      "weighted avg       0.79      0.86      0.80      2029\n",
      "\n"
     ]
    }
   ],
   "source": [
    "print(\"Accuracy Score =\", round(sm.accuracy_score(y_test, y_test_pred4), 2)) \n",
    "print(\"Precision Score =\", sm.precision_score(y_test, y_test_pred4))\n",
    "print(\"Confucion Matrix =\\n\", sm.confusion_matrix(y_test, y_test_pred4))\n",
    "print(\"Recall Score =\", sm.recall_score(y_test, y_test_pred4))\n",
    "print(\"AUC Score =\", sm.roc_auc_score(y_test, y_test_pred4))\n",
    "print(\"Classification Report =\\n\", sm.classification_report(y_test, y_test_pred4))"
   ]
  },
  {
   "cell_type": "markdown",
   "metadata": {},
   "source": [
    "## Finalizing Model and Save into Pickle File"
   ]
  },
  {
   "cell_type": "code",
   "execution_count": 63,
   "metadata": {},
   "outputs": [],
   "source": [
    "pickle.dump(logistic, open(\"Loan_model.pkl\", \"wb\"))"
   ]
  },
  {
   "cell_type": "code",
   "execution_count": null,
   "metadata": {},
   "outputs": [],
   "source": []
  }
 ],
 "metadata": {
  "interpreter": {
   "hash": "ac59ebe37160ed0dfa835113d9b8498d9f09ceb179beaac4002f036b9467c963"
  },
  "kernelspec": {
   "display_name": "Python 3.9.7 64-bit",
   "language": "python",
   "name": "python3"
  },
  "language_info": {
   "codemirror_mode": {
    "name": "ipython",
    "version": 3
   },
   "file_extension": ".py",
   "mimetype": "text/x-python",
   "name": "python",
   "nbconvert_exporter": "python",
   "pygments_lexer": "ipython3",
   "version": "3.9.7"
  },
  "orig_nbformat": 4
 },
 "nbformat": 4,
 "nbformat_minor": 2
}
